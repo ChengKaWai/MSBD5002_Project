{
 "cells": [
  {
   "cell_type": "code",
   "execution_count": 72,
   "metadata": {},
   "outputs": [
    {
     "name": "stdout",
     "output_type": "stream",
     "text": [
      "mkdir: data_processed: File exists\r\n"
     ]
    }
   ],
   "source": [
    "# Remove Previous Processed Data\n",
    "!mkdir 'data_processed'\n",
    "!rm -r 'data_processed/lastfm/'"
   ]
  },
  {
   "cell_type": "code",
   "execution_count": 73,
   "metadata": {},
   "outputs": [
    {
     "name": "stdout",
     "output_type": "stream",
     "text": [
      "start time 1957-03-01 07:00:00, split_time 2010-08-01 06:00:00, end time 2011-05-09 19:44:57.425000\n",
      "100%|████████████████████████████████████████| 665/665 [00:00<00:00, 871.63it/s]\n",
      "num warm users: 599, num cold users: 66\n",
      "min count: 10, avg count: 24, max count: 50\n",
      "100%|█████████████████████████████████████| 2575/2575 [00:01<00:00, 1970.61it/s]\n",
      "num warm items: 887,   num cold items: 1688\n",
      "min count: 1,  avg count: 6,  max count: 68\n",
      "100%|███████████████████████████████████████| 665/665 [00:00<00:00, 1636.28it/s]\n",
      "100%|████████████████████████████████████| 665/665 [00:00<00:00, 1418003.13it/s]\n",
      "100%|█████████████████████████████████████| 2575/2575 [00:01<00:00, 2306.48it/s]\n",
      "100%|██████████████████████████████████| 2575/2575 [00:00<00:00, 1744521.53it/s]\n",
      "100%|████████████████████████████████████████| 665/665 [00:02<00:00, 281.03it/s]\n"
     ]
    }
   ],
   "source": [
    "# Prepare Dataset\n",
    "!python3 prepareDataset.py"
   ]
  },
  {
   "cell_type": "code",
   "execution_count": 74,
   "metadata": {},
   "outputs": [],
   "source": [
    "from mamoRec import *\n",
    "model = MAMRec('lastfm') \n",
    "outputs = model.test()"
   ]
  },
  {
   "cell_type": "code",
   "execution_count": 75,
   "metadata": {},
   "outputs": [
    {
     "data": {
      "text/plain": [
       "1.513194637316646"
      ]
     },
     "execution_count": 75,
     "metadata": {},
     "output_type": "execute_result"
    }
   ],
   "source": [
    "# Average Loss\n",
    "loss_val = 0\n",
    "for i in range(0,len(outputs)):\n",
    "    loss_val += float(outputs[i][3])\n",
    "loss_per_user = loss_val/len(outputs)\n",
    "loss_per_user"
   ]
  },
  {
   "cell_type": "code",
   "execution_count": 76,
   "metadata": {},
   "outputs": [
    {
     "data": {
      "text/plain": [
       "0.9053030303030303"
      ]
     },
     "execution_count": 76,
     "metadata": {},
     "output_type": "execute_result"
    }
   ],
   "source": [
    "# Average MAE\n",
    "mae_val = 0\n",
    "for i in range(0,len(outputs)):\n",
    "    mae_val += float(outputs[i][4])\n",
    "mae_per_user = mae_val/len(outputs)\n",
    "mae_per_user"
   ]
  },
  {
   "cell_type": "code",
   "execution_count": 77,
   "metadata": {},
   "outputs": [
    {
     "data": {
      "text/plain": [
       "1.0"
      ]
     },
     "execution_count": 77,
     "metadata": {},
     "output_type": "execute_result"
    }
   ],
   "source": [
    "# Average NDCG\n",
    "ndcg_val = 0\n",
    "for i in range(0,len(outputs)):\n",
    "    ndcg_val += float(outputs[i][5])\n",
    "ndcg_per_user = ndcg_val/len(outputs)\n",
    "ndcg_per_user"
   ]
  },
  {
   "cell_type": "code",
   "execution_count": 78,
   "metadata": {},
   "outputs": [
    {
     "data": {
      "text/plain": [
       "1.007895927086021"
      ]
     },
     "execution_count": 78,
     "metadata": {},
     "output_type": "execute_result"
    }
   ],
   "source": [
    "# Average RMSE\n",
    "rmse_val = 0\n",
    "for i in range(0,len(outputs)):\n",
    "    rmse_val += float(outputs[i][6])\n",
    "rmse_per_user = rmse_val/len(outputs)\n",
    "rmse_per_user"
   ]
  },
  {
   "cell_type": "code",
   "execution_count": 79,
   "metadata": {},
   "outputs": [
    {
     "data": {
      "text/plain": [
       "tensor([1, 1])"
      ]
     },
     "execution_count": 79,
     "metadata": {},
     "output_type": "execute_result"
    }
   ],
   "source": [
    "# Rating\n",
    "i = 50\n",
    "outputs[i][1]"
   ]
  },
  {
   "cell_type": "code",
   "execution_count": 80,
   "metadata": {},
   "outputs": [
    {
     "data": {
      "text/plain": [
       "(154, 78, 26, 6)"
      ]
     },
     "execution_count": 80,
     "metadata": {},
     "output_type": "execute_result"
    }
   ],
   "source": [
    "ww = []\n",
    "wc = []\n",
    "cw = []\n",
    "cc = []\n",
    "for i in range(0,len(outputs)):\n",
    "    for j in range(0,len(outputs[1][1])):\n",
    "        if outputs[i][8][j] == 0:\n",
    "            # Predict Rating - True Rating\n",
    "            ww.append(abs(outputs[i][1][0]-outputs[i][2][0]))\n",
    "        if outputs[i][8][j] == 1:\n",
    "            wc.append(abs(outputs[i][1][0]-outputs[i][2][0]))        \n",
    "        if outputs[i][8][j] == 2:\n",
    "            cw.append(abs(outputs[i][1][0]-outputs[i][2][0]))\n",
    "        if outputs[i][8][j] == 3:\n",
    "            cc.append(abs(outputs[i][1][0]-outputs[i][2][0]))\n",
    "\n",
    "len(ww), len(wc), len(cw), len(cc)"
   ]
  },
  {
   "cell_type": "code",
   "execution_count": 81,
   "metadata": {},
   "outputs": [
    {
     "data": {
      "text/plain": [
       "(0.8961038961038961, 1.3076923076923077, 0.8205128205128205, 1.0)"
      ]
     },
     "execution_count": 81,
     "metadata": {},
     "output_type": "execute_result"
    }
   ],
   "source": [
    "MAE = np.mean(ww), np.mean(cw), np.mean(wc), np.mean(cc)\n",
    "MAE"
   ]
  },
  {
   "cell_type": "code",
   "execution_count": 82,
   "metadata": {},
   "outputs": [
    {
     "data": {
      "text/plain": [
       "(154, 78, 26, 6)"
      ]
     },
     "execution_count": 82,
     "metadata": {},
     "output_type": "execute_result"
    }
   ],
   "source": [
    "ww = []\n",
    "wc = []\n",
    "cw = []\n",
    "cc = []\n",
    "for i in range(0,len(outputs)):\n",
    "    for j in range(0,len(outputs[1][1])):\n",
    "        if outputs[i][8][j] == 0:\n",
    "            # Predict Rating - True Rating\n",
    "            ww.append((outputs[i][1][0]-outputs[i][2][0])**2)\n",
    "        if outputs[i][8][j] == 1:\n",
    "            wc.append((outputs[i][1][0]-outputs[i][2][0])**2)    \n",
    "        if outputs[i][8][j] == 2:\n",
    "            cw.append((outputs[i][1][0]-outputs[i][2][0])**2)\n",
    "        if outputs[i][8][j] == 3:\n",
    "            cc.append((outputs[i][1][0]-outputs[i][2][0])**2)\n",
    "\n",
    "len(ww), len(wc), len(cw), len(cc)"
   ]
  },
  {
   "cell_type": "code",
   "execution_count": 83,
   "metadata": {},
   "outputs": [
    {
     "data": {
      "text/plain": [
       "(1.3289972784899773,\n",
       " 1.6870547845739468,\n",
       " 1.2506408613597126,\n",
       " 1.7320508075688772)"
      ]
     },
     "execution_count": 83,
     "metadata": {},
     "output_type": "execute_result"
    }
   ],
   "source": [
    "RMSE = np.sqrt(np.mean(ww)), np.sqrt(np.mean(cw)), np.sqrt(np.mean(wc)), np.sqrt(np.mean(cc))\n",
    "RMSE"
   ]
  },
  {
   "cell_type": "code",
   "execution_count": 84,
   "metadata": {},
   "outputs": [],
   "source": [
    "import pandas as pd\n",
    "df = pd.DataFrame(outputs)"
   ]
  },
  {
   "cell_type": "code",
   "execution_count": 85,
   "metadata": {},
   "outputs": [],
   "source": [
    "# Backup for Each Batch\n",
    "#df.to_csv('outputs_result/outputs_v1.csv')\n",
    "#df.to_csv('outputs_result/outputs_v2.csv')\n",
    "#df.to_csv('outputs_result/outputs_v3.csv')\n",
    "#df.to_csv('outputs_result/outputs_v4.csv')\n",
    "#df.to_csv('outputs_result/outputs_v5.csv')"
   ]
  },
  {
   "cell_type": "code",
   "execution_count": null,
   "metadata": {},
   "outputs": [],
   "source": []
  },
  {
   "cell_type": "code",
   "execution_count": null,
   "metadata": {},
   "outputs": [],
   "source": []
  }
 ],
 "metadata": {
  "kernelspec": {
   "display_name": "Python 3",
   "language": "python",
   "name": "python3"
  },
  "language_info": {
   "codemirror_mode": {
    "name": "ipython",
    "version": 3
   },
   "file_extension": ".py",
   "mimetype": "text/x-python",
   "name": "python",
   "nbconvert_exporter": "python",
   "pygments_lexer": "ipython3",
   "version": "3.8.3"
  }
 },
 "nbformat": 4,
 "nbformat_minor": 4
}
