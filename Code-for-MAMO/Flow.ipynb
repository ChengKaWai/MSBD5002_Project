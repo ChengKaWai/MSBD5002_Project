{
 "cells": [
  {
   "cell_type": "code",
   "execution_count": 1,
   "metadata": {},
   "outputs": [
    {
     "name": "stdout",
     "output_type": "stream",
     "text": [
      "rm: data_processed/lastfm/: No such file or directory\r\n"
     ]
    }
   ],
   "source": [
    "# Remove Previous Processed Data\n",
    "!mkdir 'data_processed'\n",
    "!rm -r 'data_processed/lastfm/'"
   ]
  },
  {
   "cell_type": "code",
   "execution_count": null,
   "metadata": {},
   "outputs": [],
   "source": [
    "# Prepare Dataset\n",
    "!python3 prepareDataset.py"
   ]
  },
  {
   "cell_type": "code",
   "execution_count": null,
   "metadata": {},
   "outputs": [],
   "source": [
    "from mamoRec import *\n",
    "model = MAMRec('lastfm') \n",
    "outputs = model.test()"
   ]
  },
  {
   "cell_type": "code",
   "execution_count": null,
   "metadata": {},
   "outputs": [],
   "source": [
    "# Average Loss\n",
    "loss_val = 0\n",
    "for i in range(0,len(outputs)):\n",
    "    loss_val += float(outputs[i][3])\n",
    "loss_per_user = loss_val/len(outputs)\n",
    "loss_per_user"
   ]
  },
  {
   "cell_type": "code",
   "execution_count": null,
   "metadata": {},
   "outputs": [],
   "source": [
    "# Average MAE\n",
    "mae_val = 0\n",
    "for i in range(0,len(outputs)):\n",
    "    mae_val += float(outputs[i][4])\n",
    "mae_per_user = mae_val/len(outputs)\n",
    "mae_per_user"
   ]
  },
  {
   "cell_type": "code",
   "execution_count": null,
   "metadata": {},
   "outputs": [],
   "source": [
    "# Average NDCG\n",
    "ndcg_val = 0\n",
    "for i in range(0,len(outputs)):\n",
    "    ndcg_val += float(outputs[i][5])\n",
    "ndcg_per_user = ndcg_val/len(outputs)\n",
    "ndcg_per_user"
   ]
  },
  {
   "cell_type": "code",
   "execution_count": null,
   "metadata": {},
   "outputs": [],
   "source": [
    "# Rating\n",
    "i = 9\n",
    "outputs[i][1]"
   ]
  }
 ],
 "metadata": {
  "kernelspec": {
   "display_name": "Python 3",
   "language": "python",
   "name": "python3"
  },
  "language_info": {
   "codemirror_mode": {
    "name": "ipython",
    "version": 3
   },
   "file_extension": ".py",
   "mimetype": "text/x-python",
   "name": "python",
   "nbconvert_exporter": "python",
   "pygments_lexer": "ipython3",
   "version": "3.8.3"
  }
 },
 "nbformat": 4,
 "nbformat_minor": 4
}
